{
 "cells": [
  {
   "cell_type": "code",
   "execution_count": 6,
   "metadata": {},
   "outputs": [
    {
     "name": "stdout",
     "output_type": "stream",
     "text": [
      "[ 12  23  24  28  32  51  65  95 125 129 136 141 149 184 194 199 201 202\n",
      " 205 219 229 251 270 271 281 281 287 304 308 311 320 320 325 332 335 341\n",
      " 357 367 382 384 388 392 400 401 406 410 424 443 443 445 454 467 467 484\n",
      " 487 500 500 527 541 645 649 651 667 672 698 720 723 723 734 739 745 769\n",
      " 785 799 802 805 806 821 823 839 858 859 860 866 884 901 903 904 904 939\n",
      " 941 947 948 953 962 972 973 983 987 996]\n"
     ]
    },
    {
     "data": {
      "image/png": "[encoded data removed]",
      "text/plain": [
       "<Figure size 432x288 with 1 Axes>"
      ]
     },
     "metadata": {},
     "output_type": "display_data"
    }
   ],
   "source": [
    "\n",
    "import random\n",
    "import numpy as np\n",
    "import timeit\n",
    "import matplotlib.pyplot as plt\n",
    "from random import *\n",
    "def partition(arr,low,high,rand=False):\n",
    "    i = ( low-1 )\n",
    "    if(rand==False):\n",
    "        pivot = arr[high]\n",
    "    else:\n",
    "        pivot=randint(1,high)\n",
    "    for j in range(low , high):\n",
    "        if arr[j] <= pivot:\n",
    "            i = i+1\n",
    "            arr[i],arr[j] = arr[j],arr[i]\n",
    "    arr[i+1],arr[high] = arr[high],arr[i+1]\n",
    "    return ( i+1 )\n",
    "\n",
    "def quickSort(arr,low,high,pivot=False):\n",
    "\tif low < high:\n",
    "\t\tpi = partition(arr,low,high,pivot)\n",
    "\t\tquickSort(arr, low, pi-1)\n",
    "\t\tquickSort(arr, pi+1, high)\n",
    "\n",
    "def createRandom(n):\n",
    "    return  np.random.randint(1,1000,size=n)\n",
    "\n",
    "def randomSequence(amount,start=1,step=1):\n",
    "    resultado=[]\n",
    "    for i in range(start,amount+1,step):\n",
    "        sequence=createRandom(i)\n",
    "        tempo_inicial = timeit.default_timer()\n",
    "        quickSort(sequence,low=0,high=len(sequence)-1)\n",
    "        v=timeit.default_timer()-tempo_inicial\n",
    "        resultado.append(v)\n",
    "    return (sequence,resultado)\n",
    "def createSequenciaOrden(amount,pivot=False,start=1,step=100):\n",
    "    resultado=[]\n",
    "    for i in range(start,amount+1,step):\n",
    "        sequence=np.arange(1,i+1)\n",
    "        tempo_inicial = timeit.default_timer()\n",
    "        quickSort(sequence,low=0,high=len(sequence)-1,pivot=True)\n",
    "        v=timeit.default_timer()-tempo_inicial\n",
    "        resultado.append(v)\n",
    "    return (resultado)\n",
    "    \n",
    "a,R=randomSequence(100)\n",
    "print(a)\n",
    "R2=createSequenciaOrden(1000)\n",
    "R3=createSequenciaOrden(1000,True)\n",
    "x=np.arange(1,1001,100)\n",
    "plt.plot(x,R2,color='blue')\n",
    "plt.plot(x,R3,color='green') \n",
    "plt.show()\n"
   ]
  }
 ],
 "metadata": {
  "kernelspec": {
   "display_name": "Python 3",
   "language": "python",
   "name": "python3"
  },
  "language_info": {
   "codemirror_mode": {
    "name": "ipython",
    "version": 3
   },
   "file_extension": ".py",
   "mimetype": "text/x-python",
   "name": "python",
   "nbconvert_exporter": "python",
   "pygments_lexer": "ipython3",
   "version": "3.6.5"
  }
 },
 "nbformat": 4,
 "nbformat_minor": 2
}
