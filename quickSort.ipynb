{
 "cells": [
  {
   "cell_type": "code",
   "execution_count": 124,
   "metadata": {},
   "outputs": [],
   "source": [
    "import random\n",
    "import numpy as np\n",
    "import timeit\n",
    "import matplotlib.pyplot as plt\n",
    "from random import *\n",
    "def partition(arr,low,high,rand=False):\n",
    "    i = ( low-1 )\n",
    "    pivot = arr[high]\n",
    "    pivot=randint(1,high)\n",
    "    for j in range(low , high):\n",
    "        if arr[j] <= pivot:\n",
    "            i = i+1\n",
    "            arr[i],arr[j] = arr[j],arr[i]\n",
    "    arr[i+1],arr[high] = arr[high],arr[i+1]\n",
    "    return ( i+1 )\n",
    "\n",
    "def randPartition(arr,low,high):\n",
    "    i=np.random.randint(low,high)\n",
    "    aux=arr[high]\n",
    "    arr[high]=a[i]\n",
    "    arr[i]=aux\n",
    "    return(partition(arr,low,high))\n",
    "def randQuickSort(arr,low,high):\n",
    "    if(low < high):\n",
    "        pi = randPartition(arr,low,high)\n",
    "        print(pi)\n",
    "        randQuickSort(arr, low, pi-1)\n",
    "        randQuickSort(arr, pi+1, high)  \n",
    "def quickSort(arr,low,high):\n",
    "    if low < high:\n",
    "        pi = partition(arr,low,high)\n",
    "        print(pi)\n",
    "        quickSort(arr, low, pi-1)\n",
    "        quickSort(arr, pi+1, high)\n",
    "def createRandom(n):\n",
    "    return  np.random.randint(1,1000,size=n)\n",
    "\n",
    "def randomSequence(amount,start=1,step=100):\n",
    "    resultado=[]\n",
    "    for i in range(start,amount+1,step):\n",
    "        sequence=createRandom(i)\n",
    "        tempo_inicial = timeit.default_timer()\n",
    "        quickSort(sequence,low=0,high=len(sequence)-1)\n",
    "        v=timeit.default_timer()-tempo_inicial\n",
    "        resultado.append(v)\n",
    "    return (sequence,resultado)\n",
    "def createSequenciaOrden(amount,pivot=False,start=1,step=100):\n",
    "    resultado=[]\n",
    "    for i in range(start,amount+1,step):\n",
    "        sequence=np.arange(1,i+1)\n",
    "        tempo_inicial = timeit.default_timer()\n",
    "        quickSort(sequence,low=0,high=len(sequence)-1)\n",
    "        v=timeit.default_timer()-tempo_inicial\n",
    "        resultado.append(v)\n",
    "    return (resultado)\n"
   ]
  },
  {
   "cell_type": "markdown",
   "metadata": {},
   "source": [
    "# questão 1"
   ]
  },
  {
   "cell_type": "markdown",
   "metadata": {},
   "source": [
    "# a)Use uma sequencia aleatória de números inteiros entre 1 e 100 como entrada do algoritmo e apresente o print da execução."
   ]
  },
  {
   "cell_type": "code",
   "execution_count": 66,
   "metadata": {},
   "outputs": [
    {
     "name": "stdout",
     "output_type": "stream",
     "text": [
      "[10 10 18 24 46 68 80 83 93 98]\n"
     ]
    }
   ],
   "source": [
    "a=createRandom(10,100)\n",
    "quickSort(a,0,9)\n",
    "print(a)"
   ]
  },
  {
   "cell_type": "markdown",
   "metadata": {},
   "source": [
    "# b) Qual e a complexidade no tempo do algoritmo? Explique."
   ]
  },
  {
   "cell_type": "markdown",
   "metadata": {},
   "source": [
    "### A complexidade do quickSorte depende de a função particionar, se o particionar estiver balanceado a complexidade do algoritmo vai se NLOGN, já se o particionamento estiver desbalanceado cairemos no pior caso aonde a complexidade N^2, o caso médio para valores assintóticos se aproxima mais de NLOGN "
   ]
  },
  {
   "cell_type": "markdown",
   "metadata": {},
   "source": [
    "# c) Compare o tempo de execução do algoritmo quando o mesmo recebe como entrada sequencias ordenadas (de forma crescente e decrescente) e desordenadas. Cas mais numeros fossem inseridos nas sequ ´ encias, como o desempenho do algoritmo seriaafetado? Usando dados reais, ilustre graficamente suas conclusoes. "
   ]
  },
  {
   "cell_type": "markdown",
   "metadata": {},
   "source": [
    "### O primeiro dado a se analisa e as curvas de crescimento de cada função, por conta de o teste de execuções serem gerados em computador pessoal, os tempos de execução dependia do estado da maquina   por esse motivo podem haver erros nas curvas de crescimento. Contudo para realizar a análise dos casos desta questão cuja as sequencias sejam elas ordenada (crescente e decrescente) e desordenada, os resultados foram satisfatórios, a visualização do gráfico a baixo e bem visível a ineficiência do pivô no ultimo elemento em uma sequência ordenada"
   ]
  },
  {
   "cell_type": "code",
   "execution_count": 68,
   "metadata": {},
   "outputs": [
    {
     "data": {
      "image/png": "[encoded data removed]",
      "text/plain": [
       "<Figure size 432x288 with 1 Axes>"
      ]
     },
     "metadata": {
      "needs_background": "light"
     },
     "output_type": "display_data"
    }
   ],
   "source": [
    "R=randomSequence(100)\n",
    "R3=createSequenciaOrden(100)\n",
    "x=np.arange(1,1001,100)\n",
    "plt.plot(x,R,color='blue')\n",
    "plt.plot(x,R2,color='green')\n",
    "plt.legend(['ordenada','Desordenado'])\n",
    "plt.show()\n"
   ]
  },
  {
   "cell_type": "markdown",
   "metadata": {},
   "source": [
    "# d)Modifique o algoritmo para que a escolha do pivo seja feita de forma aleatoria. Em seguida, refaça os itens (a), (b) e (c) usando o algoritmo modificado."
   ]
  },
  {
   "cell_type": "markdown",
   "metadata": {},
   "source": [
    "# a) \n",
    "\t"
   ]
  },
  {
   "cell_type": "markdown",
   "metadata": {},
   "source": [
    "### inalterável"
   ]
  },
  {
   "cell_type": "markdown",
   "metadata": {},
   "source": [
    "# b)"
   ]
  },
  {
   "cell_type": "markdown",
   "metadata": {},
   "source": [
    "### A complexidade ainda vai depender da função particionar, mas as chances de acontece    a pior casa são reduzidas com o pivô aleatório.\n",
    "\t"
   ]
  },
  {
   "cell_type": "markdown",
   "metadata": {},
   "source": [
    "# c)\n"
   ]
  },
  {
   "cell_type": "markdown",
   "metadata": {},
   "source": [
    "### Com o pivô aleatório ordenado (crescente e decrescente) e desordenado os resultado tentem a ser parecidos, ou seja , a tendência que caia no caso médio, pois no caso de ordenado o pivô e aleatório e no desordenado além do pivô ser aleatório os  elementos também são ,abaixo estão representados os gráficosgerados aparte dos  resultado das execuções"
   ]
  },
  {
   "cell_type": "code",
   "execution_count": null,
   "metadata": {},
   "outputs": [],
   "source": []
  }
 ],
 "metadata": {
  "kernelspec": {
   "display_name": "Python 3",
   "language": "python",
   "name": "python3"
  },
  "language_info": {
   "codemirror_mode": {
    "name": "ipython",
    "version": 3
   },
   "file_extension": ".py",
   "mimetype": "text/x-python",
   "name": "python",
   "nbconvert_exporter": "python",
   "pygments_lexer": "ipython3",
   "version": "3.7.0"
  }
 },
 "nbformat": 4,
 "nbformat_minor": 2
}
